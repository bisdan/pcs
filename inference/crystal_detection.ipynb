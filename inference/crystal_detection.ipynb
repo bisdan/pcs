{
 "cells": [
  {
   "cell_type": "code",
   "execution_count": 6,
   "id": "ccb53dd5",
   "metadata": {
    "scrolled": false
   },
   "outputs": [
    {
     "name": "stdout",
     "output_type": "stream",
     "text": [
      "Obtaining file:///home/dbischoff/repos/pcs/s2anet\n",
      "  Preparing metadata (setup.py) ... \u001b[?25ldone\n",
      "\u001b[?25hRequirement already satisfied: cython in /home/dbischoff/anaconda3/envs/s2a/lib/python3.7/site-packages (from mmdet==1.0rc1+9c0f0f6) (0.29.33)\n",
      "Requirement already satisfied: numpy in /home/dbischoff/anaconda3/envs/s2a/lib/python3.7/site-packages (from mmdet==1.0rc1+9c0f0f6) (1.21.5)\n",
      "Requirement already satisfied: albumentations in /home/dbischoff/anaconda3/envs/s2a/lib/python3.7/site-packages (from mmdet==1.0rc1+9c0f0f6) (1.3.0)\n",
      "Requirement already satisfied: imagecorruptions in /home/dbischoff/anaconda3/envs/s2a/lib/python3.7/site-packages (from mmdet==1.0rc1+9c0f0f6) (1.1.2)\n",
      "Requirement already satisfied: mmcv==0.2.14 in /home/dbischoff/anaconda3/envs/s2a/lib/python3.7/site-packages (from mmdet==1.0rc1+9c0f0f6) (0.2.14)\n",
      "Requirement already satisfied: matplotlib in /home/dbischoff/anaconda3/envs/s2a/lib/python3.7/site-packages (from mmdet==1.0rc1+9c0f0f6) (3.5.3)\n",
      "Requirement already satisfied: terminaltables in /home/dbischoff/anaconda3/envs/s2a/lib/python3.7/site-packages (from mmdet==1.0rc1+9c0f0f6) (3.1.10)\n",
      "Requirement already satisfied: six in /home/dbischoff/anaconda3/envs/s2a/lib/python3.7/site-packages (from mmdet==1.0rc1+9c0f0f6) (1.16.0)\n",
      "Requirement already satisfied: pycocotools in /home/dbischoff/anaconda3/envs/s2a/lib/python3.7/site-packages (from mmdet==1.0rc1+9c0f0f6) (2.0.6)\n",
      "Requirement already satisfied: pillow in /home/dbischoff/anaconda3/envs/s2a/lib/python3.7/site-packages (from mmdet==1.0rc1+9c0f0f6) (9.3.0)\n",
      "Requirement already satisfied: shapely in /home/dbischoff/anaconda3/envs/s2a/lib/python3.7/site-packages (from mmdet==1.0rc1+9c0f0f6) (2.0.0)\n",
      "Requirement already satisfied: pyyaml in /home/dbischoff/anaconda3/envs/s2a/lib/python3.7/site-packages (from mmcv==0.2.14->mmdet==1.0rc1+9c0f0f6) (6.0)\n",
      "Requirement already satisfied: addict in /home/dbischoff/anaconda3/envs/s2a/lib/python3.7/site-packages (from mmcv==0.2.14->mmdet==1.0rc1+9c0f0f6) (2.4.0)\n",
      "Requirement already satisfied: requests in /home/dbischoff/anaconda3/envs/s2a/lib/python3.7/site-packages (from mmcv==0.2.14->mmdet==1.0rc1+9c0f0f6) (2.28.2)\n",
      "Requirement already satisfied: opencv-python in /home/dbischoff/anaconda3/envs/s2a/lib/python3.7/site-packages (from mmcv==0.2.14->mmdet==1.0rc1+9c0f0f6) (4.7.0.68)\n",
      "Requirement already satisfied: opencv-python-headless>=4.1.1 in /home/dbischoff/anaconda3/envs/s2a/lib/python3.7/site-packages (from albumentations->mmdet==1.0rc1+9c0f0f6) (4.7.0.68)\n",
      "Requirement already satisfied: qudida>=0.0.4 in /home/dbischoff/anaconda3/envs/s2a/lib/python3.7/site-packages (from albumentations->mmdet==1.0rc1+9c0f0f6) (0.0.4)\n",
      "Requirement already satisfied: scipy in /home/dbischoff/anaconda3/envs/s2a/lib/python3.7/site-packages (from albumentations->mmdet==1.0rc1+9c0f0f6) (1.7.3)\n",
      "Requirement already satisfied: scikit-image>=0.16.1 in /home/dbischoff/anaconda3/envs/s2a/lib/python3.7/site-packages (from albumentations->mmdet==1.0rc1+9c0f0f6) (0.19.3)\n",
      "Requirement already satisfied: python-dateutil>=2.7 in /home/dbischoff/anaconda3/envs/s2a/lib/python3.7/site-packages (from matplotlib->mmdet==1.0rc1+9c0f0f6) (2.8.2)\n",
      "Requirement already satisfied: cycler>=0.10 in /home/dbischoff/anaconda3/envs/s2a/lib/python3.7/site-packages (from matplotlib->mmdet==1.0rc1+9c0f0f6) (0.11.0)\n",
      "Requirement already satisfied: kiwisolver>=1.0.1 in /home/dbischoff/anaconda3/envs/s2a/lib/python3.7/site-packages (from matplotlib->mmdet==1.0rc1+9c0f0f6) (1.4.4)\n",
      "Requirement already satisfied: packaging>=20.0 in /home/dbischoff/anaconda3/envs/s2a/lib/python3.7/site-packages (from matplotlib->mmdet==1.0rc1+9c0f0f6) (23.0)\n",
      "Requirement already satisfied: pyparsing>=2.2.1 in /home/dbischoff/anaconda3/envs/s2a/lib/python3.7/site-packages (from matplotlib->mmdet==1.0rc1+9c0f0f6) (3.0.9)\n",
      "Requirement already satisfied: fonttools>=4.22.0 in /home/dbischoff/anaconda3/envs/s2a/lib/python3.7/site-packages (from matplotlib->mmdet==1.0rc1+9c0f0f6) (4.38.0)\n",
      "Requirement already satisfied: typing-extensions in /home/dbischoff/anaconda3/envs/s2a/lib/python3.7/site-packages (from kiwisolver>=1.0.1->matplotlib->mmdet==1.0rc1+9c0f0f6) (4.4.0)\n",
      "Requirement already satisfied: scikit-learn>=0.19.1 in /home/dbischoff/anaconda3/envs/s2a/lib/python3.7/site-packages (from qudida>=0.0.4->albumentations->mmdet==1.0rc1+9c0f0f6) (1.0.2)\n",
      "Requirement already satisfied: imageio>=2.4.1 in /home/dbischoff/anaconda3/envs/s2a/lib/python3.7/site-packages (from scikit-image>=0.16.1->albumentations->mmdet==1.0rc1+9c0f0f6) (2.24.0)\n",
      "Requirement already satisfied: PyWavelets>=1.1.1 in /home/dbischoff/anaconda3/envs/s2a/lib/python3.7/site-packages (from scikit-image>=0.16.1->albumentations->mmdet==1.0rc1+9c0f0f6) (1.3.0)\n",
      "Requirement already satisfied: tifffile>=2019.7.26 in /home/dbischoff/anaconda3/envs/s2a/lib/python3.7/site-packages (from scikit-image>=0.16.1->albumentations->mmdet==1.0rc1+9c0f0f6) (2021.11.2)\n",
      "Requirement already satisfied: networkx>=2.2 in /home/dbischoff/anaconda3/envs/s2a/lib/python3.7/site-packages (from scikit-image>=0.16.1->albumentations->mmdet==1.0rc1+9c0f0f6) (2.6.3)\n",
      "Requirement already satisfied: idna<4,>=2.5 in /home/dbischoff/anaconda3/envs/s2a/lib/python3.7/site-packages (from requests->mmcv==0.2.14->mmdet==1.0rc1+9c0f0f6) (3.4)\n",
      "Requirement already satisfied: charset-normalizer<4,>=2 in /home/dbischoff/anaconda3/envs/s2a/lib/python3.7/site-packages (from requests->mmcv==0.2.14->mmdet==1.0rc1+9c0f0f6) (3.0.1)\n",
      "Requirement already satisfied: urllib3<1.27,>=1.21.1 in /home/dbischoff/anaconda3/envs/s2a/lib/python3.7/site-packages (from requests->mmcv==0.2.14->mmdet==1.0rc1+9c0f0f6) (1.26.14)\n",
      "Requirement already satisfied: certifi>=2017.4.17 in /home/dbischoff/anaconda3/envs/s2a/lib/python3.7/site-packages (from requests->mmcv==0.2.14->mmdet==1.0rc1+9c0f0f6) (2022.12.7)\n",
      "Requirement already satisfied: threadpoolctl>=2.0.0 in /home/dbischoff/anaconda3/envs/s2a/lib/python3.7/site-packages (from scikit-learn>=0.19.1->qudida>=0.0.4->albumentations->mmdet==1.0rc1+9c0f0f6) (3.1.0)\n",
      "Requirement already satisfied: joblib>=0.11 in /home/dbischoff/anaconda3/envs/s2a/lib/python3.7/site-packages (from scikit-learn>=0.19.1->qudida>=0.0.4->albumentations->mmdet==1.0rc1+9c0f0f6) (1.2.0)\n",
      "Installing collected packages: mmdet\n",
      "  Running setup.py develop for mmdet\n",
      "Successfully installed mmdet-1.0rc1+9c0f0f6\n"
     ]
    }
   ],
   "source": [
    "# INSTALLING EVERYTHING YOU NEED ... TAKES A LONG TIME\n",
    "!pip install torch==1.9.1+cu111 torchvision==0.10.1+cu111 torchaudio==0.9.1 -f https://download.pytorch.org/whl/torch_stable.html\n",
    "!pip install -e ..\n",
    "!apt install gcc-10 && apt install g++-10\n",
    "!export CC=gcc-10 && export CXX=g++-10 && pip install -e ../s2anet"
   ]
  },
  {
   "cell_type": "code",
   "execution_count": 8,
   "id": "4609135b",
   "metadata": {},
   "outputs": [
    {
     "name": "stdout",
     "output_type": "stream",
     "text": [
      "Obtaining file:///home/dbischoff/repos/pcs\n",
      "  Preparing metadata (setup.py) ... \u001b[?25ldone\n",
      "\u001b[?25hRequirement already satisfied: pyfastnoisesimd>=0.4.2 in /home/dbischoff/anaconda3/envs/s2a/lib/python3.7/site-packages (from pcs==0.0.1) (0.4.2)\n",
      "Requirement already satisfied: opencv-python>=4.5.4 in /home/dbischoff/anaconda3/envs/s2a/lib/python3.7/site-packages (from pcs==0.0.1) (4.7.0.68)\n",
      "Requirement already satisfied: scipy in /home/dbischoff/anaconda3/envs/s2a/lib/python3.7/site-packages (from pcs==0.0.1) (1.7.3)\n",
      "Requirement already satisfied: numpy>=1.17.0 in /home/dbischoff/anaconda3/envs/s2a/lib/python3.7/site-packages (from opencv-python>=4.5.4->pcs==0.0.1) (1.21.5)\n",
      "Requirement already satisfied: setuptools>=34.1.0 in /home/dbischoff/anaconda3/envs/s2a/lib/python3.7/site-packages (from pyfastnoisesimd>=0.4.2->pcs==0.0.1) (65.6.3)\n",
      "Installing collected packages: pcs\n",
      "  Attempting uninstall: pcs\n",
      "    Found existing installation: pcs 0.0.1\n",
      "    Uninstalling pcs-0.0.1:\n",
      "      Successfully uninstalled pcs-0.0.1\n",
      "  Running setup.py develop for pcs\n",
      "Successfully installed pcs-0.0.1\n"
     ]
    }
   ],
   "source": [
    "!pip install -e .."
   ]
  },
  {
   "cell_type": "code",
   "execution_count": 9,
   "id": "ca23baf4",
   "metadata": {},
   "outputs": [
    {
     "ename": "ImportError",
     "evalue": "cannot import name 'PCSMinimalAugmentationList' from 'pcs.augmentations' (/home/dbischoff/repos/pcs/pcs/augmentations.py)",
     "output_type": "error",
     "traceback": [
      "\u001b[0;31m---------------------------------------------------------------------------\u001b[0m",
      "\u001b[0;31mImportError\u001b[0m                               Traceback (most recent call last)",
      "\u001b[0;32m/tmp/ipykernel_15510/238145137.py\u001b[0m in \u001b[0;36m<module>\u001b[0;34m\u001b[0m\n\u001b[0;32m----> 1\u001b[0;31m \u001b[0;32mfrom\u001b[0m \u001b[0mhelpers\u001b[0m \u001b[0;32mimport\u001b[0m \u001b[0minference\u001b[0m\u001b[0;34m\u001b[0m\u001b[0;34m\u001b[0m\u001b[0m\n\u001b[0m\u001b[1;32m      2\u001b[0m \u001b[0;34m\u001b[0m\u001b[0m\n\u001b[1;32m      3\u001b[0m \u001b[0mimage_path\u001b[0m \u001b[0;34m=\u001b[0m \u001b[0;34m\"pcs_validation_aug\"\u001b[0m\u001b[0;34m\u001b[0m\u001b[0;34m\u001b[0m\u001b[0m\n\u001b[1;32m      4\u001b[0m \u001b[0mimage_shape\u001b[0m \u001b[0;34m=\u001b[0m \u001b[0;34m(\u001b[0m\u001b[0;36m384\u001b[0m\u001b[0;34m,\u001b[0m \u001b[0;36m384\u001b[0m\u001b[0;34m,\u001b[0m\u001b[0;34m)\u001b[0m\u001b[0;34m\u001b[0m\u001b[0;34m\u001b[0m\u001b[0m\n\u001b[1;32m      5\u001b[0m \u001b[0;34m\u001b[0m\u001b[0m\n",
      "\u001b[0;32m~/repos/pcs/inference/helpers.py\u001b[0m in \u001b[0;36m<module>\u001b[0;34m\u001b[0m\n\u001b[0;32m----> 1\u001b[0;31m \u001b[0;32mfrom\u001b[0m \u001b[0ms2anet\u001b[0m\u001b[0;34m.\u001b[0m\u001b[0mdemo\u001b[0m\u001b[0;34m.\u001b[0m\u001b[0mdemo_inference_without_dataset\u001b[0m \u001b[0;32mimport\u001b[0m \u001b[0msave_det_result\u001b[0m \u001b[0;32mas\u001b[0m \u001b[0m_save_det_result\u001b[0m\u001b[0;34m\u001b[0m\u001b[0;34m\u001b[0m\u001b[0m\n\u001b[0m\u001b[1;32m      2\u001b[0m \u001b[0;32mimport\u001b[0m \u001b[0mos\u001b[0m\u001b[0;34m.\u001b[0m\u001b[0mpath\u001b[0m \u001b[0;32mas\u001b[0m \u001b[0mosp\u001b[0m\u001b[0;34m\u001b[0m\u001b[0;34m\u001b[0m\u001b[0m\n\u001b[1;32m      3\u001b[0m \u001b[0;32mimport\u001b[0m \u001b[0mtempfile\u001b[0m\u001b[0;34m\u001b[0m\u001b[0;34m\u001b[0m\u001b[0m\n\u001b[1;32m      4\u001b[0m \u001b[0;32mimport\u001b[0m \u001b[0mglob\u001b[0m\u001b[0;34m\u001b[0m\u001b[0;34m\u001b[0m\u001b[0m\n\u001b[1;32m      5\u001b[0m \u001b[0;32mimport\u001b[0m \u001b[0mcv2\u001b[0m\u001b[0;34m\u001b[0m\u001b[0;34m\u001b[0m\u001b[0m\n",
      "\u001b[0;32m~/repos/pcs/s2anet/demo/demo_inference_without_dataset.py\u001b[0m in \u001b[0;36m<module>\u001b[0;34m\u001b[0m\n\u001b[1;32m      9\u001b[0m \u001b[0;32mfrom\u001b[0m \u001b[0mmmcv\u001b[0m \u001b[0;32mimport\u001b[0m \u001b[0mConfig\u001b[0m\u001b[0;34m\u001b[0m\u001b[0;34m\u001b[0m\u001b[0m\n\u001b[1;32m     10\u001b[0m \u001b[0;34m\u001b[0m\u001b[0m\n\u001b[0;32m---> 11\u001b[0;31m \u001b[0;32mfrom\u001b[0m \u001b[0mmmdet\u001b[0m\u001b[0;34m.\u001b[0m\u001b[0mapis\u001b[0m \u001b[0;32mimport\u001b[0m \u001b[0minit_detector\u001b[0m\u001b[0;34m,\u001b[0m \u001b[0minference_detector\u001b[0m\u001b[0;34m\u001b[0m\u001b[0;34m\u001b[0m\u001b[0m\n\u001b[0m\u001b[1;32m     12\u001b[0m \u001b[0;32mfrom\u001b[0m \u001b[0mmmdet\u001b[0m\u001b[0;34m.\u001b[0m\u001b[0mcore\u001b[0m \u001b[0;32mimport\u001b[0m \u001b[0mrotated_box_to_poly_single\u001b[0m\u001b[0;34m\u001b[0m\u001b[0;34m\u001b[0m\u001b[0m\n\u001b[1;32m     13\u001b[0m \u001b[0;32mfrom\u001b[0m \u001b[0mmmdet\u001b[0m\u001b[0;34m.\u001b[0m\u001b[0mdatasets\u001b[0m \u001b[0;32mimport\u001b[0m \u001b[0mbuild_dataset\u001b[0m\u001b[0;34m\u001b[0m\u001b[0;34m\u001b[0m\u001b[0m\n",
      "\u001b[0;32m~/repos/s2anet/mmdet/apis/__init__.py\u001b[0m in \u001b[0;36m<module>\u001b[0;34m\u001b[0m\n\u001b[1;32m      1\u001b[0m \u001b[0;32mfrom\u001b[0m \u001b[0;34m.\u001b[0m\u001b[0menv\u001b[0m \u001b[0;32mimport\u001b[0m \u001b[0mget_root_logger\u001b[0m\u001b[0;34m,\u001b[0m \u001b[0minit_dist\u001b[0m\u001b[0;34m,\u001b[0m \u001b[0mset_random_seed\u001b[0m\u001b[0;34m\u001b[0m\u001b[0;34m\u001b[0m\u001b[0m\n\u001b[0;32m----> 2\u001b[0;31m from .inference import (inference_detector, init_detector, show_result,\n\u001b[0m\u001b[1;32m      3\u001b[0m                         show_result_pyplot)\n\u001b[1;32m      4\u001b[0m \u001b[0;32mfrom\u001b[0m \u001b[0;34m.\u001b[0m\u001b[0mtrain\u001b[0m \u001b[0;32mimport\u001b[0m \u001b[0mtrain_detector\u001b[0m\u001b[0;34m\u001b[0m\u001b[0;34m\u001b[0m\u001b[0m\n\u001b[1;32m      5\u001b[0m \u001b[0;34m\u001b[0m\u001b[0m\n",
      "\u001b[0;32m~/repos/s2anet/mmdet/apis/inference.py\u001b[0m in \u001b[0;36m<module>\u001b[0;34m\u001b[0m\n\u001b[1;32m      9\u001b[0m \u001b[0;32mfrom\u001b[0m \u001b[0mmmcv\u001b[0m\u001b[0;34m.\u001b[0m\u001b[0mrunner\u001b[0m \u001b[0;32mimport\u001b[0m \u001b[0mload_checkpoint\u001b[0m\u001b[0;34m\u001b[0m\u001b[0;34m\u001b[0m\u001b[0m\n\u001b[1;32m     10\u001b[0m \u001b[0;34m\u001b[0m\u001b[0m\n\u001b[0;32m---> 11\u001b[0;31m \u001b[0;32mfrom\u001b[0m \u001b[0mmmdet\u001b[0m\u001b[0;34m.\u001b[0m\u001b[0mcore\u001b[0m \u001b[0;32mimport\u001b[0m \u001b[0mget_classes\u001b[0m\u001b[0;34m\u001b[0m\u001b[0;34m\u001b[0m\u001b[0m\n\u001b[0m\u001b[1;32m     12\u001b[0m \u001b[0;32mfrom\u001b[0m \u001b[0mmmdet\u001b[0m\u001b[0;34m.\u001b[0m\u001b[0mdatasets\u001b[0m\u001b[0;34m.\u001b[0m\u001b[0mpipelines\u001b[0m \u001b[0;32mimport\u001b[0m \u001b[0mCompose\u001b[0m\u001b[0;34m\u001b[0m\u001b[0;34m\u001b[0m\u001b[0m\n\u001b[1;32m     13\u001b[0m \u001b[0;32mfrom\u001b[0m \u001b[0mmmdet\u001b[0m\u001b[0;34m.\u001b[0m\u001b[0mmodels\u001b[0m \u001b[0;32mimport\u001b[0m \u001b[0mbuild_detector\u001b[0m\u001b[0;34m\u001b[0m\u001b[0;34m\u001b[0m\u001b[0m\n",
      "\u001b[0;32m~/repos/s2anet/mmdet/core/__init__.py\u001b[0m in \u001b[0;36m<module>\u001b[0;34m\u001b[0m\n\u001b[1;32m      1\u001b[0m \u001b[0;32mfrom\u001b[0m \u001b[0;34m.\u001b[0m\u001b[0manchor\u001b[0m \u001b[0;32mimport\u001b[0m \u001b[0;34m*\u001b[0m  \u001b[0;31m# noqa: F401, F403\u001b[0m\u001b[0;34m\u001b[0m\u001b[0;34m\u001b[0m\u001b[0m\n\u001b[1;32m      2\u001b[0m \u001b[0;32mfrom\u001b[0m \u001b[0;34m.\u001b[0m\u001b[0mbbox\u001b[0m \u001b[0;32mimport\u001b[0m \u001b[0;34m*\u001b[0m  \u001b[0;31m# noqa: F401, F403\u001b[0m\u001b[0;34m\u001b[0m\u001b[0;34m\u001b[0m\u001b[0m\n\u001b[0;32m----> 3\u001b[0;31m \u001b[0;32mfrom\u001b[0m \u001b[0;34m.\u001b[0m\u001b[0mevaluation\u001b[0m \u001b[0;32mimport\u001b[0m \u001b[0;34m*\u001b[0m  \u001b[0;31m# noqa: F401, F403\u001b[0m\u001b[0;34m\u001b[0m\u001b[0;34m\u001b[0m\u001b[0m\n\u001b[0m\u001b[1;32m      4\u001b[0m \u001b[0;32mfrom\u001b[0m \u001b[0;34m.\u001b[0m\u001b[0mfp16\u001b[0m \u001b[0;32mimport\u001b[0m \u001b[0;34m*\u001b[0m  \u001b[0;31m# noqa: F401, F403\u001b[0m\u001b[0;34m\u001b[0m\u001b[0;34m\u001b[0m\u001b[0m\n\u001b[1;32m      5\u001b[0m \u001b[0;32mfrom\u001b[0m \u001b[0;34m.\u001b[0m\u001b[0mmask\u001b[0m \u001b[0;32mimport\u001b[0m \u001b[0;34m*\u001b[0m  \u001b[0;31m# noqa: F401, F403\u001b[0m\u001b[0;34m\u001b[0m\u001b[0;34m\u001b[0m\u001b[0m\n",
      "\u001b[0;32m~/repos/s2anet/mmdet/core/evaluation/__init__.py\u001b[0m in \u001b[0;36m<module>\u001b[0;34m\u001b[0m\n\u001b[1;32m      3\u001b[0m                           voc_classes)\n\u001b[1;32m      4\u001b[0m \u001b[0;32mfrom\u001b[0m \u001b[0;34m.\u001b[0m\u001b[0mcoco_utils\u001b[0m \u001b[0;32mimport\u001b[0m \u001b[0mcoco_eval\u001b[0m\u001b[0;34m,\u001b[0m \u001b[0mfast_eval_recall\u001b[0m\u001b[0;34m,\u001b[0m \u001b[0mresults2json\u001b[0m\u001b[0;34m\u001b[0m\u001b[0;34m\u001b[0m\u001b[0m\n\u001b[0;32m----> 5\u001b[0;31m from .eval_hooks import (CocoDistEvalmAPHook, CocoDistEvalRecallHook,\n\u001b[0m\u001b[1;32m      6\u001b[0m                          DistEvalHook, DistEvalmAPHook)\n\u001b[1;32m      7\u001b[0m \u001b[0;32mfrom\u001b[0m \u001b[0;34m.\u001b[0m\u001b[0mmean_ap\u001b[0m \u001b[0;32mimport\u001b[0m \u001b[0maverage_precision\u001b[0m\u001b[0;34m,\u001b[0m \u001b[0meval_map\u001b[0m\u001b[0;34m,\u001b[0m \u001b[0mprint_map_summary\u001b[0m\u001b[0;34m\u001b[0m\u001b[0;34m\u001b[0m\u001b[0m\n",
      "\u001b[0;32m~/repos/s2anet/mmdet/core/evaluation/eval_hooks.py\u001b[0m in \u001b[0;36m<module>\u001b[0;34m\u001b[0m\n\u001b[1;32m     11\u001b[0m \u001b[0;32mfrom\u001b[0m \u001b[0mtorch\u001b[0m\u001b[0;34m.\u001b[0m\u001b[0mutils\u001b[0m\u001b[0;34m.\u001b[0m\u001b[0mdata\u001b[0m \u001b[0;32mimport\u001b[0m \u001b[0mDataset\u001b[0m\u001b[0;34m\u001b[0m\u001b[0;34m\u001b[0m\u001b[0m\n\u001b[1;32m     12\u001b[0m \u001b[0;34m\u001b[0m\u001b[0m\n\u001b[0;32m---> 13\u001b[0;31m \u001b[0;32mfrom\u001b[0m \u001b[0mmmdet\u001b[0m \u001b[0;32mimport\u001b[0m \u001b[0mdatasets\u001b[0m\u001b[0;34m\u001b[0m\u001b[0;34m\u001b[0m\u001b[0m\n\u001b[0m\u001b[1;32m     14\u001b[0m \u001b[0;32mfrom\u001b[0m \u001b[0;34m.\u001b[0m\u001b[0mcoco_utils\u001b[0m \u001b[0;32mimport\u001b[0m \u001b[0mfast_eval_recall\u001b[0m\u001b[0;34m,\u001b[0m \u001b[0mresults2json\u001b[0m\u001b[0;34m\u001b[0m\u001b[0;34m\u001b[0m\u001b[0m\n\u001b[1;32m     15\u001b[0m \u001b[0;32mfrom\u001b[0m \u001b[0;34m.\u001b[0m\u001b[0mmean_ap\u001b[0m \u001b[0;32mimport\u001b[0m \u001b[0meval_map\u001b[0m\u001b[0;34m\u001b[0m\u001b[0;34m\u001b[0m\u001b[0m\n",
      "\u001b[0;32m~/repos/s2anet/mmdet/datasets/__init__.py\u001b[0m in \u001b[0;36m<module>\u001b[0;34m\u001b[0m\n\u001b[1;32m      3\u001b[0m \u001b[0;32mfrom\u001b[0m \u001b[0;34m.\u001b[0m\u001b[0mcoco\u001b[0m \u001b[0;32mimport\u001b[0m \u001b[0mCocoDataset\u001b[0m\u001b[0;34m\u001b[0m\u001b[0;34m\u001b[0m\u001b[0m\n\u001b[1;32m      4\u001b[0m \u001b[0;32mfrom\u001b[0m \u001b[0;34m.\u001b[0m\u001b[0mcustom\u001b[0m \u001b[0;32mimport\u001b[0m \u001b[0mCustomDataset\u001b[0m\u001b[0;34m\u001b[0m\u001b[0;34m\u001b[0m\u001b[0m\n\u001b[0;32m----> 5\u001b[0;31m \u001b[0;32mfrom\u001b[0m \u001b[0;34m.\u001b[0m\u001b[0mpcs_dataset\u001b[0m \u001b[0;32mimport\u001b[0m \u001b[0mPCSTrainDataset\u001b[0m\u001b[0;34m\u001b[0m\u001b[0;34m\u001b[0m\u001b[0m\n\u001b[0m\u001b[1;32m      6\u001b[0m \u001b[0;32mfrom\u001b[0m \u001b[0;34m.\u001b[0m\u001b[0mdataset_wrappers\u001b[0m \u001b[0;32mimport\u001b[0m \u001b[0mConcatDataset\u001b[0m\u001b[0;34m,\u001b[0m \u001b[0mRepeatDataset\u001b[0m\u001b[0;34m\u001b[0m\u001b[0;34m\u001b[0m\u001b[0m\n\u001b[1;32m      7\u001b[0m \u001b[0;32mfrom\u001b[0m \u001b[0;34m.\u001b[0m\u001b[0mloader\u001b[0m \u001b[0;32mimport\u001b[0m \u001b[0mDistributedGroupSampler\u001b[0m\u001b[0;34m,\u001b[0m \u001b[0mGroupSampler\u001b[0m\u001b[0;34m,\u001b[0m \u001b[0mbuild_dataloader\u001b[0m\u001b[0;34m\u001b[0m\u001b[0;34m\u001b[0m\u001b[0m\n",
      "\u001b[0;32m~/repos/s2anet/mmdet/datasets/pcs_dataset.py\u001b[0m in \u001b[0;36m<module>\u001b[0;34m\u001b[0m\n\u001b[1;32m     17\u001b[0m \u001b[0;32mimport\u001b[0m \u001b[0mrandom\u001b[0m\u001b[0;34m\u001b[0m\u001b[0;34m\u001b[0m\u001b[0m\n\u001b[1;32m     18\u001b[0m \u001b[0;32mimport\u001b[0m \u001b[0mmatplotlib\u001b[0m\u001b[0;34m.\u001b[0m\u001b[0mpyplot\u001b[0m \u001b[0;32mas\u001b[0m \u001b[0mplt\u001b[0m\u001b[0;34m\u001b[0m\u001b[0;34m\u001b[0m\u001b[0m\n\u001b[0;32m---> 19\u001b[0;31m \u001b[0;32mfrom\u001b[0m \u001b[0mpcs\u001b[0m\u001b[0;34m.\u001b[0m\u001b[0maugmentations\u001b[0m \u001b[0;32mimport\u001b[0m \u001b[0mPCSDefaultAugmentor\u001b[0m\u001b[0;34m,\u001b[0m \u001b[0mPCSMinimalAugmentationList\u001b[0m\u001b[0;34m,\u001b[0m \u001b[0mPCSContrastAugmentationList\u001b[0m\u001b[0;34m,\u001b[0m \u001b[0mPCSPerlinAugmentationList\u001b[0m\u001b[0;34m,\u001b[0m \u001b[0mPCSWaveAugmentationList\u001b[0m\u001b[0;34m\u001b[0m\u001b[0;34m\u001b[0m\u001b[0m\n\u001b[0m\u001b[1;32m     20\u001b[0m \u001b[0;32mfrom\u001b[0m \u001b[0mpcs\u001b[0m\u001b[0;34m.\u001b[0m\u001b[0mvisualization\u001b[0m \u001b[0;32mimport\u001b[0m \u001b[0mPCSDrawer\u001b[0m\u001b[0;34m\u001b[0m\u001b[0;34m\u001b[0m\u001b[0m\n\u001b[1;32m     21\u001b[0m \u001b[0;34m\u001b[0m\u001b[0m\n",
      "\u001b[0;31mImportError\u001b[0m: cannot import name 'PCSMinimalAugmentationList' from 'pcs.augmentations' (/home/dbischoff/repos/pcs/pcs/augmentations.py)"
     ]
    }
   ],
   "source": [
    "from helpers import inference\n",
    "\n",
    "image_path = \"pcs_validation_aug\"\n",
    "image_shape = (384, 384,)\n",
    "\n",
    "threshold = 0.2\n",
    "\n",
    "test_cfg = dict(\n",
    "    nms_pre=5000,\n",
    "    min_bbox_size=0,\n",
    "    score_thr=0.05,\n",
    "    nms=dict(type='nms_rotated', iou_thr=0.3),\n",
    "    max_per_img=5000)\n",
    "\n",
    "test_pipeline = [\n",
    "    dict(type='LoadImageFromFile'),\n",
    "    dict(\n",
    "        type='MultiScaleFlipAug',\n",
    "        img_scale=image_shape,\n",
    "        flip=False,\n",
    "        transforms=[\n",
    "            dict(type='RotatedResize', img_scale=image_shape, keep_ratio=True),\n",
    "            dict(type='RotatedRandomFlip'),\n",
    "            dict(type='PCSNormalize'),\n",
    "            dict(type='Pad', size_divisor=32),\n",
    "            dict(type='ImageToTensor', keys=['img']),\n",
    "            dict(type='Collect', keys=['img']),\n",
    "        ])\n",
    "]\n",
    "\n",
    "inference(image_path, test_cfg=test_cfg, test_pipeline=test_pipeline)"
   ]
  },
  {
   "cell_type": "code",
   "execution_count": null,
   "id": "2f04d882",
   "metadata": {},
   "outputs": [],
   "source": []
  }
 ],
 "metadata": {
  "kernelspec": {
   "display_name": "Python 3 (ipykernel)",
   "language": "python",
   "name": "python3"
  },
  "language_info": {
   "codemirror_mode": {
    "name": "ipython",
    "version": 3
   },
   "file_extension": ".py",
   "mimetype": "text/x-python",
   "name": "python",
   "nbconvert_exporter": "python",
   "pygments_lexer": "ipython3",
   "version": "3.7.15"
  },
  "vscode": {
   "interpreter": {
    "hash": "97a043c20b56c312d290fb1eb5911743d501b9c102a035c7d9006c2ef5ee0960"
   }
  }
 },
 "nbformat": 4,
 "nbformat_minor": 5
}
