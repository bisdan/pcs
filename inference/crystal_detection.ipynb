{
  "cells": [
    {
      "cell_type": "markdown",
      "metadata": {
        "id": "view-in-github",
        "colab_type": "text"
      },
      "source": [
        "<a href=\"https://colab.research.google.com/github/bisdan/pcs/blob/periodic/inference/crystal_detection.ipynb\" target=\"_parent\"><img src=\"https://colab.research.google.com/assets/colab-badge.svg\" alt=\"Open In Colab\"/></a>"
      ]
    },
    {
      "cell_type": "code",
      "source": [
        "!git clone -b periodic https://github.com/bisdan/pcs.git"
      ],
      "metadata": {
        "id": "iaAElO18SClf"
      },
      "id": "iaAElO18SClf",
      "execution_count": null,
      "outputs": []
    },
    {
      "cell_type": "code",
      "source": [
        "!pip -q install torch==1.9.1+cu111 torchvision==0.10.1+cu111 torchaudio==0.9.1 -f https://download.pytorch.org/whl/torch_stable.html"
      ],
      "metadata": {
        "id": "uoYqjDLQZswS"
      },
      "id": "uoYqjDLQZswS",
      "execution_count": null,
      "outputs": []
    },
    {
      "cell_type": "code",
      "source": [
        "%cd /content/pcs\n",
        "!pip -q install -e ."
      ],
      "metadata": {
        "id": "nnOthRFNZvgV"
      },
      "id": "nnOthRFNZvgV",
      "execution_count": null,
      "outputs": []
    },
    {
      "cell_type": "code",
      "source": [
        "!apt install ninja-build"
      ],
      "metadata": {
        "id": "iP7cdaiEZwa4"
      },
      "id": "iP7cdaiEZwa4",
      "execution_count": null,
      "outputs": []
    },
    {
      "cell_type": "code",
      "source": [
        "%cd /content/pcs/s2anet\n",
        "!pip -q install -r requirements.txt"
      ],
      "metadata": {
        "id": "PGbNrJR1ZxaP"
      },
      "id": "PGbNrJR1ZxaP",
      "execution_count": null,
      "outputs": []
    },
    {
      "cell_type": "code",
      "source": [
        "%cd /content/pcs/s2anet\n",
        "!pip -q install -e ."
      ],
      "metadata": {
        "id": "VzyHm3HNZydE"
      },
      "id": "VzyHm3HNZydE",
      "execution_count": null,
      "outputs": []
    },
    {
      "cell_type": "markdown",
      "source": [
        "# New Section"
      ],
      "metadata": {
        "id": "1eA8I6tUUs2E"
      },
      "id": "1eA8I6tUUs2E"
    },
    {
      "cell_type": "code",
      "execution_count": null,
      "id": "ca23baf4",
      "metadata": {
        "id": "ca23baf4"
      },
      "outputs": [],
      "source": [
        "%cd /content/pcs/inference\n",
        "from helpers import inference\n",
        "\n",
        "image_path = \"pcs_validation_aug\"\n",
        "image_shape = (384, 384,)\n",
        "\n",
        "threshold = 0.2\n",
        "\n",
        "test_cfg = dict(\n",
        "    nms_pre=5000,\n",
        "    min_bbox_size=0,\n",
        "    score_thr=0.05,\n",
        "    nms=dict(type='nms_rotated', iou_thr=0.3),\n",
        "    max_per_img=5000)\n",
        "\n",
        "test_pipeline = [\n",
        "    dict(type='LoadImageFromFile'),\n",
        "    dict(\n",
        "        type='MultiScaleFlipAug',\n",
        "        img_scale=image_shape,\n",
        "        flip=False,\n",
        "        transforms=[\n",
        "            dict(type='RotatedResize', img_scale=image_shape, keep_ratio=True),\n",
        "            dict(type='RotatedRandomFlip'),\n",
        "            dict(type='PCSNormalize'),\n",
        "            dict(type='Pad', size_divisor=32),\n",
        "            dict(type='ImageToTensor', keys=['img']),\n",
        "            dict(type='Collect', keys=['img']),\n",
        "        ])\n",
        "]\n",
        "\n",
        "inference(image_path, test_cfg=test_cfg, test_pipeline=test_pipeline)"
      ]
    },
    {
      "cell_type": "code",
      "source": [],
      "metadata": {
        "id": "xDQlrpi1aXzV"
      },
      "id": "xDQlrpi1aXzV",
      "execution_count": null,
      "outputs": []
    },
    {
      "cell_type": "code",
      "source": [],
      "metadata": {
        "id": "3UfxL-xOaz1v"
      },
      "id": "3UfxL-xOaz1v",
      "execution_count": null,
      "outputs": []
    }
  ],
  "metadata": {
    "kernelspec": {
      "display_name": "Python 3 (ipykernel)",
      "language": "python",
      "name": "python3"
    },
    "language_info": {
      "codemirror_mode": {
        "name": "ipython",
        "version": 3
      },
      "file_extension": ".py",
      "mimetype": "text/x-python",
      "name": "python",
      "nbconvert_exporter": "python",
      "pygments_lexer": "ipython3",
      "version": "3.7.15"
    },
    "vscode": {
      "interpreter": {
        "hash": "97a043c20b56c312d290fb1eb5911743d501b9c102a035c7d9006c2ef5ee0960"
      }
    },
    "colab": {
      "provenance": [],
      "include_colab_link": true
    },
    "accelerator": "GPU",
    "gpuClass": "standard"
  },
  "nbformat": 4,
  "nbformat_minor": 5
}